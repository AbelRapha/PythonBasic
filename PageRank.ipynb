{
  "nbformat": 4,
  "nbformat_minor": 0,
  "metadata": {
    "colab": {
      "name": "PageRank.ipynb",
      "provenance": [],
      "authorship_tag": "ABX9TyPv+913xwF4OQkt8HPyqsNc",
      "include_colab_link": true
    },
    "kernelspec": {
      "name": "python3",
      "display_name": "Python 3"
    },
    "language_info": {
      "name": "python"
    }
  },
  "cells": [
    {
      "cell_type": "markdown",
      "metadata": {
        "id": "view-in-github",
        "colab_type": "text"
      },
      "source": [
        "<a href=\"https://colab.research.google.com/github/AbelRapha/PythonBasic/blob/main/PageRank.ipynb\" target=\"_parent\"><img src=\"https://colab.research.google.com/assets/colab-badge.svg\" alt=\"Open In Colab\"/></a>"
      ]
    },
    {
      "cell_type": "code",
      "metadata": {
        "colab": {
          "base_uri": "https://localhost:8080/"
        },
        "id": "W8AmtGW5JLeu",
        "outputId": "ef6fea39-72f7-4f17-c4f4-03b7fb35930b"
      },
      "source": [
        "#Função de troca de elementos dentro da lista\n",
        "def troca(b,c):\n",
        "  return (c,b)\n",
        "\n",
        "#função de ordenacao\n",
        "def bubble_sort(a,crit):\n",
        "  n = len(a)\n",
        "  for j in range(1, n): #Estrutura de repeticao que controla quantas vezes a troca sera realizada de acordo com a dimensao de index\n",
        "    for i in range(0,n-1):\n",
        "      if (crit[i] < crit[i+1]): #Com o sinal de > o maior valor da lista fica para o final e com sinal < o maior valor da lista fica em primeiro na lista\n",
        "        crit[i], crit[i+1] = troca(crit[i],crit[i+1]) #Troca de posicao se a condicao do if for satisfeita\n",
        "        a[i],a[i+1] = troca(a[i],a[i+1]) #Atauliza na lista index de acordo com a ataulizacao do pagerank\n",
        "\n",
        "  return (a,crit) \n",
        "\n",
        "\n",
        "\n",
        "pagerank = [4.7,5.4,3.1,10.2] #Valores a serem orfdenados de forma decrescente ou crescente de acordo com o sinal de > ou < da funcao bubble_sort()\n",
        "index = [0,1,2,3] #numero das paginas  \n",
        "print(\"Valores da lista:\" , pagerank)\n",
        "print(\"Ordem da posicao da lista pagerank: \",index)\n",
        "index, pagerank = bubble_sort(index,pagerank)\n",
        "print(\"Valores da lista:\" , pagerank)\n",
        "print(\"Ordem da posicao da lista pagerank: \",index)"
      ],
      "execution_count": 8,
      "outputs": [
        {
          "output_type": "stream",
          "text": [
            "Valores da lista: [4.7, 5.4, 3.1, 10.2]\n",
            "Ordem da posicao da lista pagerank:  [0, 1, 2, 3]\n",
            "Valores da lista: [10.2, 5.4, 4.7, 3.1]\n",
            "Ordem da posicao da lista pagerank:  [3, 1, 0, 2]\n"
          ],
          "name": "stdout"
        }
      ]
    }
  ]
}