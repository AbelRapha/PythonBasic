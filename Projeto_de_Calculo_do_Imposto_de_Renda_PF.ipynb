{
  "nbformat": 4,
  "nbformat_minor": 0,
  "metadata": {
    "colab": {
      "name": "Projeto de Calculo do Imposto de Renda PF.ipynb",
      "provenance": [],
      "authorship_tag": "ABX9TyPWU1mlgM3osa5PwKeUKr35",
      "include_colab_link": true
    },
    "kernelspec": {
      "name": "python3",
      "display_name": "Python 3"
    },
    "language_info": {
      "name": "python"
    }
  },
  "cells": [
    {
      "cell_type": "markdown",
      "metadata": {
        "id": "view-in-github",
        "colab_type": "text"
      },
      "source": [
        "<a href=\"https://colab.research.google.com/github/AbelRapha/PythonBasic/blob/main/Projeto_de_Calculo_do_Imposto_de_Renda_PF.ipynb\" target=\"_parent\"><img src=\"https://colab.research.google.com/assets/colab-badge.svg\" alt=\"Open In Colab\"/></a>"
      ]
    },
    {
      "cell_type": "markdown",
      "metadata": {
        "id": "7YkVB87Eymu5"
      },
      "source": [
        "<h1><strong>Tabela de IRPF</strong></h1>\n",
        "\n",
        "\n",
        "\n",
        "*   Até 1.903,98 Isento\n",
        "\n",
        "*   1ª Faixa 7,5% para bases de  1.903,99 a  R$ 2.826,65\n",
        "\n",
        "*   2ª Faixa 15% para bases de  2.826,66 a R$ 3.751,05\n",
        "\n",
        "*   3ª Faixa 22,5% para bases de R$ 3.751,06 a  4.664,68\n",
        "\n",
        "*   4ª Faixa 27,5% para bases a partir de R$ 4.664,68\n",
        "\n",
        "\n",
        "\n"
      ]
    },
    {
      "cell_type": "markdown",
      "metadata": {
        "id": "DAFEr96Ez03N"
      },
      "source": [
        "<h2><strong>Tabela de Dedução</strong></h2>\n",
        "\n",
        "\n",
        "\n",
        "*   1ª Faixa: R$ 142,80\n",
        "\n",
        "*   2ª Faixa: R$ 354,80\n",
        "\n",
        "*   3ª Faixa: R$ 636,13\n",
        "\n",
        "*   4ª Faixa: R$ 869,36\n",
        "\n",
        "\n",
        "\n",
        "\n",
        "\n"
      ]
    },
    {
      "cell_type": "code",
      "metadata": {
        "colab": {
          "base_uri": "https://localhost:8080/"
        },
        "id": "wj18V8RMySD2",
        "outputId": "08469008-8185-4fc3-de2a-2c97a89bd5e9"
      },
      "source": [
        "#Utilizando Dicionários\n",
        "\n",
        "salario  = float(input(\"Digite seu Salário Bruto: \"))\n",
        "\n",
        "faixaDeDesconto = {0: 0.0,\n",
        "                   1: 7.5,\n",
        "                   2: 15,\n",
        "                   3: 22.5,\n",
        "                   4: 27.5}\n",
        "faixaDeDeducao = {0: 0.0,\n",
        "                  1: 142.80,\n",
        "                  2: 354.80,\n",
        "                  3: 636.13,\n",
        "                  4: 869.36 }    \n",
        "#Condições lógicas para verificar em qual faixa cada pessoa irá se encaixar de acordo com o salário bruto\n",
        "\n",
        "if (salario <= 1903.98):\n",
        "  faixa = 0\n",
        "elif (salario > 1903.98) and (salario <= 2826.65):\n",
        "  faixa = 1 \n",
        "elif (salario > 2826.65) and (salario <= 3751.05):\n",
        "  faixa = 2  \n",
        "elif (salario > 3751.05) and (salario <= 4664.68):\n",
        "  faixa = 3\n",
        "else:\n",
        "  faixa = 4       \n",
        "\n",
        "#Cálculo do Imposto\n",
        "\n",
        "imposto = salario * (faixaDeDesconto[faixa]/100)\n",
        "\n",
        "valorPadrao = faixaDeDeducao[faixa]\n",
        "\n",
        "impostoAPagar = imposto - valorPadrao\n",
        "\n",
        "liquido = salario - impostoAPagar\n",
        "\n",
        "#Criacao das mensagens para apresentar ao usuario\n",
        "\n",
        "mensagem1 = \"Bruto : %10.2f, Faixa: %d, Imposto: %5.2f\"%(salario,faixa,imposto)\n",
        "\n",
        "mensagem2 = \"Padrão : %5.2f, A pagar : %5.2f, Liquido: %5.2f \"%(valorPadrao, impostoAPagar, liquido)\n",
        "\n",
        "print(mensagem1)\n",
        "print(mensagem2)"
      ],
      "execution_count": 9,
      "outputs": [
        {
          "output_type": "stream",
          "text": [
            "Digite seu Salário Bruto: 1900\n",
            "Bruto :    1900.00, Faixa: 0, Imposto:  0.00\n",
            "Padrão :  0.00, A pagar :  0.00, Liquido: 1900.00 \n"
          ],
          "name": "stdout"
        }
      ]
    }
  ]
}